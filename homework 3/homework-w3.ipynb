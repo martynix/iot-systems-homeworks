{
 "cells": [
  {
   "cell_type": "markdown",
   "metadata": {
    "collapsed": true
   },
   "source": [
    "# BL40A2010 Introduction to IoT-Based Systems\n",
    "\n",
    "## Assignment 3, DD.MM.YYYY\n",
    "\n",
    "### Author: "
   ]
  },
  {
   "cell_type": "markdown",
   "metadata": {},
   "source": [
    "**(1) Compute the following for a ring topology of $N=5$ and $N=6$  nodes considering that the network in unweighted and the links are directed. The result will give these number as a function of $N$.** ![](./ring.png) *Fig. 1 Example when $N=6$.* "
   ]
  },
  {
   "cell_type": "markdown",
   "metadata": {},
   "source": [
    "Answer: N=5, N=6\n",
    "\n",
    "(a) Degree of nodes: 2, 2 \n",
    "\t\n",
    "(b) Adjacent matrix: \n",
    "\n",
    "$$\n",
    "A = \\begin{pmatrix} \n",
    "\t0 & 1 & 0 & 0 & 1 \\\\\n",
    "\t1 & 0 & 1 & 0 & 0 \\\\\n",
    "\t0 & 1 & 0 & 1 & 0 \\\\\n",
    "    0 & 0 & 1 & 0 & 1 \\\\\n",
    "    1 & 0 & 0 & 1 & 0\n",
    "\n",
    "\\end{pmatrix}\n",
    "$$\n",
    "\n",
    ",\n",
    "\n",
    "$$\n",
    "A = \\begin{pmatrix} \n",
    "\t0 & 1 & 0 & 0 & 0 & 1 \\\\\n",
    "\t1 & 0 & 1 & 0 & 0 & 0 \\\\\n",
    "\t0 & 1 & 0 & 1 & 0 & 0 \\\\\n",
    "    0 & 0 & 1 & 0 & 1 & 0 \\\\\n",
    "    0 & 0 & 0 & 1 & 0 & 1 \\\\\n",
    "    1 & 0 & 0 & 0 & 1 & 0 \n",
    "\\end{pmatrix}\n",
    "$$\n",
    "\n",
    "(c) Diameter: 2, 3\n",
    "\n",
    "(d) Clustering coefficient of the nodes: 0,0\n"
   ]
  },
  {
   "cell_type": "markdown",
   "metadata": {},
   "source": [
    "**(2) Use NetworkX to draw and analyze a ring topology with 5 nodes. Verify if the results previously obtained are valid.**"
   ]
  },
  {
   "cell_type": "code",
   "execution_count": 25,
   "metadata": {},
   "outputs": [
    {
     "name": "stdout",
     "output_type": "stream",
     "text": [
      "Requirement already satisfied: networkx in c:\\users\\marty\\anaconda3\\lib\\site-packages (3.1)\n"
     ]
    },
    {
     "data": {
      "image/png": "[encoded data removed]",
      "text/plain": [
       "<Figure size 640x480 with 1 Axes>"
      ]
     },
     "metadata": {},
     "output_type": "display_data"
    },
    {
     "name": "stdout",
     "output_type": "stream",
     "text": [
      "[(0, 2), (1, 2), (2, 2), (3, 2), (4, 2)]\n",
      "[[0 1 0 0 1]\n",
      " [1 0 1 0 0]\n",
      " [0 1 0 1 0]\n",
      " [0 0 1 0 1]\n",
      " [1 0 0 1 0]]\n",
      "2\n",
      "{0: 0, 1: 0, 2: 0, 3: 0, 4: 0}\n"
     ]
    }
   ],
   "source": [
    "! pip install --upgrade networkx\n",
    "\n",
    "import networkx as nx\n",
    "import matplotlib.pyplot as plt\n",
    "import scipy as sp\n",
    "import numpy as np\n",
    "\n",
    "G = nx.Graph()\n",
    "G = nx.cycle_graph(5)\n",
    "nx.draw_networkx(G, node_color='black', font_color='white', edge_color='black', font_weight='bold',  node_size=700)\n",
    "plt.axis('off')\n",
    "plt.show()\n",
    "\n",
    "print(G.degree())\n",
    "\n",
    "A=nx.adjacency_matrix(G)\n",
    "print(A.todense())\n",
    "\n",
    "print(nx.diameter(G))\n",
    "\n",
    "print(nx.clustering(G))"
   ]
  },
  {
   "cell_type": "markdown",
   "metadata": {},
   "source": [
    "**(3) Analyze the ring topology with size 15 ($N=15$) as a communication network (i.e. how data travel to a point to another in the network) based on the node degree, the network diameter and the cluster coefficient.**"
   ]
  },
  {
   "cell_type": "markdown",
   "metadata": {},
   "source": [
    "Answer: In a ring topology, each node is connected to exactly two other nodes. This means that every node has a degree of 2. In a ring topology, the diameter is equal to half the number of nodes if N is even or (N-1)/2 if N is odd. So the diameter of given topology is 7, which means that if we want to travel from point to another, farthest point, we need to make go through 7 another points - it requires multiple hops. The node degree is 2, so there is low chance of problems happening when many \"talk\" to one at the same time. This topology is not robust against attacks against links or edges. If one link ore edge is attacked, the whole network stops working, since there is no bridge for data to travel to the next node from attacked node. This topology is good if communication needs to be localized and when data is needed to travel quickly between immediate neighbors. But it may not be as efficient for long-distance communication within the network. "
   ]
  },
  {
   "cell_type": "markdown",
   "metadata": {},
   "source": [
    "**(4) Consider the ring network from the previous question. The network performance depends on its diameter. As a designer, you can add one new node in the network (and an unlimited number of links that this node is part) . Justify your decision and evaluate how much better the network is. Generalize this finding as a function of $N$.**\n",
    "\n",
    "*Hint:*  Follow Exercise 1 approach to generalize the finding."
   ]
  },
  {
   "cell_type": "markdown",
   "metadata": {},
   "source": [
    "Answer: To this ring topology I would add one node connected to every previous nodes in graph, making it a hub-and-spoke topology. Then the diameter would be 2, so network performance would be better, shorter hops can be used to go from point to point, but also there won't be problems when many \"talk\" to one at the same time, since only \"hub\" node has high degree. Changing every ring topology this way will always give the diameter 2 regardless N.\n"
   ]
  }
 ],
 "metadata": {
  "kernelspec": {
   "display_name": "Python 3 (ipykernel)",
   "language": "python",
   "name": "python3"
  },
  "language_info": {
   "codemirror_mode": {
    "name": "ipython",
    "version": 3
   },
   "file_extension": ".py",
   "mimetype": "text/x-python",
   "name": "python",
   "nbconvert_exporter": "python",
   "pygments_lexer": "ipython3",
   "version": "3.11.4"
  }
 },
 "nbformat": 4,
 "nbformat_minor": 2
}
